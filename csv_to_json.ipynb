{
 "cells": [
  {
   "cell_type": "code",
   "execution_count": 1,
   "id": "9b23dcf6",
   "metadata": {},
   "outputs": [],
   "source": [
    "import pandas as pd"
   ]
  },
  {
   "cell_type": "code",
   "execution_count": 2,
   "id": "627c9086",
   "metadata": {},
   "outputs": [],
   "source": [
    "df = pd.read_csv('resources/mat.csv')"
   ]
  },
  {
   "cell_type": "code",
   "execution_count": 3,
   "id": "bfa14b9b",
   "metadata": {},
   "outputs": [],
   "source": [
    "df.columns = ['Mat']"
   ]
  },
  {
   "cell_type": "code",
   "execution_count": 4,
   "id": "576038dc",
   "metadata": {},
   "outputs": [],
   "source": [
    "df.to_json('resources/mat.json')"
   ]
  }
 ],
 "metadata": {
  "kernelspec": {
   "display_name": "Python 3 (ipykernel)",
   "language": "python",
   "name": "python3"
  },
  "language_info": {
   "codemirror_mode": {
    "name": "ipython",
    "version": 3
   },
   "file_extension": ".py",
   "mimetype": "text/x-python",
   "name": "python",
   "nbconvert_exporter": "python",
   "pygments_lexer": "ipython3",
   "version": "3.10.13"
  }
 },
 "nbformat": 4,
 "nbformat_minor": 5
}
